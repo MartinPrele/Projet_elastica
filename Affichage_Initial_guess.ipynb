{
 "cells": [
  {
   "cell_type": "markdown",
   "id": "ca12dacb",
   "metadata": {},
   "source": [
    "# **Contexte et but du code**"
   ]
  },
  {
   "cell_type": "markdown",
   "id": "dcb1ff89-a538-4d6d-99f9-71a7b4a123fe",
   "metadata": {},
   "source": [
    "Nous avons deux codes pour tracer des abaques afin d'avoir une idée des paramètres L,D et H optimaux (voir schémas des codes des abaques). Cependant le code dépend beaucoup du choix des paramètres initiaux (initial guess) qui permettent de résoudre l'équation différentiel associé à notre problème de courbe élastique. Tout les paramètres ont été choisis pour des h=0.160 et R=2 cependant rien ne garantit que ces paramètres seront justes pour d'autres valeurs de h et R. Ce code est là pour nous donner une idée (un ordre de grandeur) de la valeurs des paramètres initiaux à mettre pour soit des paramètres L, D et H"
   ]
  },
  {
   "cell_type": "markdown",
   "id": "4c6f00b9-7d78-4f0e-b586-115865b78eee",
   "metadata": {},
   "source": [
    "# **Bibliothèques**"
   ]
  },
  {
   "cell_type": "code",
   "execution_count": 1,
   "id": "456ba213-1c3d-4243-94ee-2d8aa5a68ead",
   "metadata": {},
   "outputs": [],
   "source": [
    "import numpy as np\n",
    "import matplotlib.pyplot as plt\n",
    "from scipy.integrate import solve_ivp\n",
    "from scipy.optimize import fsolve\n",
    "from scipy.interpolate import interp1d\n",
    "import itertools"
   ]
  },
  {
   "cell_type": "markdown",
   "id": "23143d4d-fba4-4a53-b500-55a7c0881134",
   "metadata": {},
   "source": [
    "# **Paramètres (à modifier)**"
   ]
  },
  {
   "cell_type": "code",
   "execution_count": 2,
   "id": "d332aadd-adf2-4ba0-8c21-ca6f24628173",
   "metadata": {},
   "outputs": [
    {
     "ename": "SyntaxError",
     "evalue": "invalid syntax. Perhaps you forgot a comma? (1571138654.py, line 12)",
     "output_type": "error",
     "traceback": [
      "  \u001b[36mCell\u001b[39m\u001b[36m \u001b[39m\u001b[32mIn[2]\u001b[39m\u001b[32m, line 12\u001b[39m\n\u001b[31m    \u001b[39m\u001b[31mGUESS = [ 9.56365387e-02 -1.06132571e-04  3.96473480e-05]\u001b[39m\n              ^\n\u001b[31mSyntaxError\u001b[39m\u001b[31m:\u001b[39m invalid syntax. Perhaps you forgot a comma?\n"
     ]
    }
   ],
   "source": [
    "D = 10  # mm\n",
    "H = 5    # mm\n",
    "L = 50  # mm\n",
    "R = 2      # mm\n",
    "h = 0.160  # mm\n",
    "l = 40     # mm\n",
    "alpha_0 = 0 # rad\n",
    "alpha_f = -np.pi/2 #rad\n",
    "GUESS = [0.3, -0.0005, 0.0001] # fair varier les paramètres (surtout GUESS[0])\n",
    "# Si alpha_f > 0 alors GUESS[0] < 0 pour convergence \n",
    "# Sinon GUESS[0] > 0 pour convegence \n",
    "GUESS = [ 9.56365387e-02 -1.06132571e-04  3.96473480e-05]"
   ]
  },
  {
   "cell_type": "markdown",
   "id": "97bc4559-7479-43f0-af09-3e1dfb346ad6",
   "metadata": {},
   "source": [
    "# **Fonctions pour I(s)**"
   ]
  },
  {
   "cell_type": "code",
   "execution_count": null,
   "id": "e954fccd-d4b3-40f7-9588-59861df2a0b7",
   "metadata": {},
   "outputs": [],
   "source": [
    "def compute_I_interp(L):\n",
    "    s = np.linspace(0, L, 200)\n",
    "    b = np.zeros_like(s)\n",
    "    for i in range(len(s)):\n",
    "        if s[i] < R:\n",
    "            y_circ = np.sqrt(R**2 - (s[i] - R)**2)\n",
    "            b[i] = l + 2 * (R - y_circ)\n",
    "        elif s[i] > s[-1] - R:\n",
    "            y_circ = np.sqrt(R**2 - ((s[-1] - R) - s[i])**2)\n",
    "            b[i] = l + 2 * (R - y_circ)\n",
    "        else:\n",
    "            b[i] = l\n",
    "    I = (b * h**3) / 12\n",
    "    dI_ds = np.gradient(I, s)\n",
    "    return interp1d(s, I, kind='cubic', fill_value='extrapolate'), interp1d(s, dI_ds, kind='cubic', fill_value='extrapolate')"
   ]
  },
  {
   "cell_type": "markdown",
   "id": "751256f4-38e7-4bed-862a-33a825b9fc43",
   "metadata": {},
   "source": [
    "# **ODE de l’élastique**"
   ]
  },
  {
   "cell_type": "code",
   "execution_count": null,
   "id": "68500a64-71bd-4bd1-b3b0-8af0400b3524",
   "metadata": {},
   "outputs": [],
   "source": [
    "def elastica_odes(s_val, Y, lambda_x, lambda_y, I_func, dI_ds_func):\n",
    "    theta, kappa, x, y = Y\n",
    "    I = I_func(s_val)\n",
    "    dI = dI_ds_func(s_val)\n",
    "    return [kappa,\n",
    "        (lambda_x * np.sin(theta) - lambda_y * np.cos(theta) - dI * kappa) / I,\n",
    "        np.cos(theta),\n",
    "        np.sin(theta)]"
   ]
  },
  {
   "cell_type": "markdown",
   "id": "c2b041e0-c013-4b7a-88bc-d9985dbb1142",
   "metadata": {},
   "source": [
    "# **Résolution via méthode de tir avec exploration automatique**"
   ]
  },
  {
   "cell_type": "code",
   "execution_count": null,
   "id": "d9d3ba7d-b6c3-4382-9051-d047ab7437c2",
   "metadata": {},
   "outputs": [],
   "source": [
    "def solve_elastica(L, D, H, initial_guess, n_try=5, perturb=0.05):\n",
    "    I_func, dI_ds_func = compute_I_interp(L)\n",
    "\n",
    "    def shooting(params):\n",
    "        kappa0, lambda_x, lambda_y = params\n",
    "        Y0 = [0, kappa0, 0, 0]\n",
    "        sol = solve_ivp(elastica_odes, (0, L), Y0, args=(lambda_x, lambda_y, I_func, dI_ds_func), dense_output=True)\n",
    "        theta_f, x_f, y_f = sol.y[0, -1], sol.y[2, -1], sol.y[3, -1]\n",
    "        return [\n",
    "            (theta_f - alpha_f) / np.pi,\n",
    "            (x_f - D) / (abs(D) + 1e-8),\n",
    "            (y_f - H) / (abs(H) + 1e-8)\n",
    "        ]\n",
    "\n",
    "    # Tentative principale\n",
    "    sol = fsolve(shooting, initial_guess, xtol=1e-9, factor=0.1, full_output=True)\n",
    "    opt_params, _, ier, _ = sol\n",
    "\n",
    "    # Si échec, on explore autour de initial_guess\n",
    "    if ier != 1:\n",
    "        print(\"Convergence échouée, recherche autour de l'initial_guess...\")\n",
    "        best_params = None\n",
    "        best_residual = np.inf\n",
    "\n",
    "        # Crée des perturbations autour de initial_guess\n",
    "        perturbations = [np.linspace(val*(1-perturb), val*(1+perturb), n_try) for val in initial_guess]\n",
    "        for guess in itertools.product(*perturbations):\n",
    "            try:\n",
    "                sol_try = fsolve(shooting, guess, xtol=1e-9, factor=0.1, full_output=True)\n",
    "                params, _, ier_try, _ = sol_try\n",
    "                if ier_try == 1:\n",
    "                    res = np.linalg.norm(shooting(params))\n",
    "                    if res < best_residual:\n",
    "                        best_residual = res\n",
    "                        best_params = params\n",
    "            except:\n",
    "                continue\n",
    "\n",
    "        if best_params is None:\n",
    "            raise RuntimeError(f\"Échec convergence après recherche autour de initial_guess pour L = {L}\")\n",
    "        else:\n",
    "            opt_params = best_params\n",
    "            print(f\"Convergence trouvée après exploration : kappa0={opt_params[0]:.6f}, lambda_x={opt_params[1]:.6e}, lambda_y={opt_params[2]:.6e}\")\n",
    "\n",
    "    # Résolution finale avec opt_params\n",
    "    kappa0, lambda_x, lambda_y = opt_params\n",
    "    Y0 = [alpha_0, kappa0, 0, 0]\n",
    "    sol_ivp = solve_ivp(elastica_odes, (0, L), Y0, args=(lambda_x, lambda_y, I_func, dI_ds_func), dense_output=True)\n",
    "    s = np.linspace(0, L, 400)\n",
    "    x, y = sol_ivp.sol(s)[2], sol_ivp.sol(s)[3]\n",
    "    return x, y, opt_params\n"
   ]
  },
  {
   "cell_type": "markdown",
   "id": "f061c340-157b-4c6d-8440-3e8a246f5682",
   "metadata": {},
   "source": [
    "# **Résolution pour L**"
   ]
  },
  {
   "cell_type": "code",
   "execution_count": null,
   "id": "cd591902-858e-43b1-9e0a-1bcb1caff71c",
   "metadata": {},
   "outputs": [],
   "source": [
    "x1, y1, opt1 = solve_elastica(L, D, H, initial_guess=GUESS)\n",
    "print(\"Paramètres optimaux :\", opt1)"
   ]
  },
  {
   "cell_type": "markdown",
   "id": "7ca45019-9b53-42f5-8d50-1c875c510cda",
   "metadata": {},
   "source": [
    "# **Affichage**"
   ]
  },
  {
   "cell_type": "code",
   "execution_count": null,
   "id": "d7c74582-7c6a-4e2e-ba36-ca353569068a",
   "metadata": {},
   "outputs": [],
   "source": [
    "plt.figure(figsize=(5,5), dpi=300)\n",
    "plt.plot(x1, y1, label=f'L = {L:.2f} mm', linewidth=2, color='k')\n",
    "plt.scatter([0, D], [0, H], color='red', label='Points d’ancrage', zorder=5)\n",
    "plt.title(f'Courbes élastiques (D = {D} mm, H = {H} mm)')\n",
    "plt.xlabel('x (mm)')\n",
    "plt.ylabel('y (mm)')\n",
    "plt.axis('equal')\n",
    "plt.grid(True)\n",
    "plt.legend()\n",
    "plt.tight_layout()\n",
    "plt.show()"
   ]
  }
 ],
 "metadata": {
  "kernelspec": {
   "display_name": "Python 3 (ipykernel)",
   "language": "python",
   "name": "python3"
  },
  "language_info": {
   "codemirror_mode": {
    "name": "ipython",
    "version": 3
   },
   "file_extension": ".py",
   "mimetype": "text/x-python",
   "name": "python",
   "nbconvert_exporter": "python",
   "pygments_lexer": "ipython3",
   "version": "3.13.2"
  }
 },
 "nbformat": 4,
 "nbformat_minor": 5
}
